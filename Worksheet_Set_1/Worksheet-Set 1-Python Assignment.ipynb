{
 "cells": [
  {
   "cell_type": "markdown",
   "id": "e6cb42d6",
   "metadata": {},
   "source": [
    "## Worksheet-Set 1-Python Assignment"
   ]
  },
  {
   "cell_type": "markdown",
   "id": "39b72a6d",
   "metadata": {},
   "source": [
    "### Answer keys for questions from Q1 to Q8:"
   ]
  },
  {
   "cell_type": "code",
   "execution_count": 1,
   "id": "659b3852",
   "metadata": {},
   "outputs": [
    {
     "name": "stdout",
     "output_type": "stream",
     "text": [
      "remainder is:  1\n"
     ]
    }
   ],
   "source": [
    "# Q1 - C) %\n",
    "x = 5%2\n",
    "print ('remainder is: ', x)"
   ]
  },
  {
   "cell_type": "code",
   "execution_count": 2,
   "id": "5ce89e31",
   "metadata": {},
   "outputs": [
    {
     "name": "stdout",
     "output_type": "stream",
     "text": [
      "value of x is:  0\n"
     ]
    }
   ],
   "source": [
    "# Q2 - B) 0\n",
    "x = 2//3\n",
    "print ('value of x is: ', x)"
   ]
  },
  {
   "cell_type": "code",
   "execution_count": 3,
   "id": "8f6c5bc1",
   "metadata": {},
   "outputs": [
    {
     "name": "stdout",
     "output_type": "stream",
     "text": [
      "value of x is:  24\n"
     ]
    }
   ],
   "source": [
    "# Q3 - C) 24\n",
    "x = 6<<2\n",
    "print ('value of x is: ', x)"
   ]
  },
  {
   "cell_type": "code",
   "execution_count": 4,
   "id": "0d7b8d52",
   "metadata": {},
   "outputs": [
    {
     "name": "stdout",
     "output_type": "stream",
     "text": [
      "value of x is:  2\n"
     ]
    }
   ],
   "source": [
    "# Q4 - A) 2\n",
    "x = 6&2\n",
    "print ('value of x is: ', x)"
   ]
  },
  {
   "cell_type": "code",
   "execution_count": 5,
   "id": "3b07e5df",
   "metadata": {},
   "outputs": [
    {
     "name": "stdout",
     "output_type": "stream",
     "text": [
      "value of x is:  6\n"
     ]
    }
   ],
   "source": [
    "# Q5 - D) 6\n",
    "x = 6|2\n",
    "print ('value of x is: ', x)"
   ]
  },
  {
   "cell_type": "code",
   "execution_count": 6,
   "id": "d372eb89",
   "metadata": {},
   "outputs": [
    {
     "name": "stdout",
     "output_type": "stream",
     "text": [
      "alphabet is a string\n",
      "this will get executed always\n",
      "\n",
      " \n",
      "\n",
      "21\n",
      "not a string value\n",
      "this will get executed always\n"
     ]
    }
   ],
   "source": [
    "# Q6 - C) the finally block will be executed no matter if the try block raises an error or not.\n",
    "name = ['alphabet', 21]\n",
    "for x in name:\n",
    "    try:\n",
    "        type(x)==str\n",
    "        print(x + ' is a string')\n",
    "    except:\n",
    "        print(\"\\n \\n\")\n",
    "        print(x)\n",
    "        print(\"not a string value\")\n",
    "    finally:\n",
    "        print('this will get executed always')"
   ]
  },
  {
   "cell_type": "code",
   "execution_count": 7,
   "id": "c27f3d33",
   "metadata": {},
   "outputs": [
    {
     "ename": "TypeError",
     "evalue": "Only integers are allowed",
     "output_type": "error",
     "traceback": [
      "\u001b[1;31m---------------------------------------------------------------------------\u001b[0m",
      "\u001b[1;31mTypeError\u001b[0m                                 Traceback (most recent call last)",
      "\u001b[1;32m~\\AppData\\Local\\Temp/ipykernel_24452/2203204525.py\u001b[0m in \u001b[0;36m<module>\u001b[1;34m\u001b[0m\n\u001b[0;32m      3\u001b[0m \u001b[1;33m\u001b[0m\u001b[0m\n\u001b[0;32m      4\u001b[0m \u001b[1;32mif\u001b[0m \u001b[1;32mnot\u001b[0m \u001b[0mtype\u001b[0m\u001b[1;33m(\u001b[0m\u001b[0mx\u001b[0m\u001b[1;33m)\u001b[0m \u001b[1;32mis\u001b[0m \u001b[0mint\u001b[0m\u001b[1;33m:\u001b[0m\u001b[1;33m\u001b[0m\u001b[1;33m\u001b[0m\u001b[0m\n\u001b[1;32m----> 5\u001b[1;33m     \u001b[1;32mraise\u001b[0m \u001b[0mTypeError\u001b[0m\u001b[1;33m(\u001b[0m\u001b[1;34m\"Only integers are allowed\"\u001b[0m\u001b[1;33m)\u001b[0m\u001b[1;33m\u001b[0m\u001b[1;33m\u001b[0m\u001b[0m\n\u001b[0m",
      "\u001b[1;31mTypeError\u001b[0m: Only integers are allowed"
     ]
    }
   ],
   "source": [
    "# Q7 - A) Used to raise an exception\n",
    "x = \"hello\"\n",
    "\n",
    "if not type(x) is int:\n",
    "    raise TypeError(\"Only integers are allowed\")"
   ]
  },
  {
   "cell_type": "code",
   "execution_count": 8,
   "id": "3939329c",
   "metadata": {},
   "outputs": [
    {
     "name": "stdout",
     "output_type": "stream",
     "text": [
      "1\n",
      "2\n",
      "3\n"
     ]
    }
   ],
   "source": [
    "# Q8 - C) in defining a generator\n",
    "\n",
    "# A Simple Python program to demonstrate working of yield\n",
    " \n",
    "# A generator function that yields 1 for the first time,2 second time and 3 third time\n",
    " \n",
    " \n",
    "def simpleGeneratorFun():\n",
    "    yield 1\n",
    "    yield 2\n",
    "    yield 3\n",
    " \n",
    " \n",
    "# code to check above generator function\n",
    "for value in simpleGeneratorFun():\n",
    "    print(value)"
   ]
  },
  {
   "cell_type": "markdown",
   "id": "6f36f52a",
   "metadata": {},
   "source": [
    "### Answer keys for questions from Q9 & Q10:"
   ]
  },
  {
   "cell_type": "code",
   "execution_count": 9,
   "id": "b3949184",
   "metadata": {},
   "outputs": [
    {
     "name": "stdout",
     "output_type": "stream",
     "text": [
      "value of _abc:  52\n",
      "value of 1abc:  55\n"
     ]
    }
   ],
   "source": [
    "# Q9 - A & C\n",
    "for i in range(0, 3, 1):\n",
    "    if i ==0:\n",
    "        _abc = 52\n",
    "        print('value of _abc: ', _abc)\n",
    "#     if i ==1:\n",
    "#         1abc = 58    >>> here varible name starts with 1, & 1 is an integer, it is never treated as variable\n",
    "#         print('value of abc2: ', 1abc)\n",
    "    if i ==2:\n",
    "        abc2 = 55\n",
    "        print('value of 1abc: ', abc2)"
   ]
  },
  {
   "cell_type": "code",
   "execution_count": 10,
   "id": "5b750592",
   "metadata": {},
   "outputs": [
    {
     "ename": "SyntaxError",
     "evalue": "invalid syntax (Temp/ipykernel_24452/77990183.py, line 4)",
     "output_type": "error",
     "traceback": [
      "\u001b[1;36m  File \u001b[1;32m\"C:\\Users\\santo\\AppData\\Local\\Temp/ipykernel_24452/77990183.py\"\u001b[1;36m, line \u001b[1;32m4\u001b[0m\n\u001b[1;33m    look-in\u001b[0m\n\u001b[1;37m         ^\u001b[0m\n\u001b[1;31mSyntaxError\u001b[0m\u001b[1;31m:\u001b[0m invalid syntax\n"
     ]
    }
   ],
   "source": [
    "# Q10 - A & B\n",
    "yield 1,\n",
    "raise None\n",
    "look-in\n",
    "# in jupyter notebook, keyword is always highlighted with dark green color."
   ]
  },
  {
   "cell_type": "markdown",
   "id": "e25a456c",
   "metadata": {},
   "source": [
    "### Q11. Write a python program to find the factorial of a number."
   ]
  },
  {
   "cell_type": "code",
   "execution_count": 11,
   "id": "4e6ad0bd",
   "metadata": {},
   "outputs": [
    {
     "name": "stdout",
     "output_type": "stream",
     "text": [
      "The factorial of 7 is 5040\n",
      "The factorial of 0 is 1\n",
      "The factorial of 5 is 120\n",
      "The factorial of 1 is 1\n",
      "The factorial of 10 is 3628800\n",
      "-2 number does not have factorial, as it is negative\n",
      "-1 number does not have factorial, as it is negative\n",
      "-5 number does not have factorial, as it is negative\n"
     ]
    }
   ],
   "source": [
    "numbers = [7, 0, 5, 1, 10, -2, -1, -5]\n",
    "\n",
    "for x in numbers:\n",
    "    if x < 0:\n",
    "        print(x, \"number does not have factorial, as it is negative\")\n",
    "    elif x == 0:\n",
    "        print(\"The factorial of 0 is 1\")\n",
    "    else:\n",
    "        fact = 1\n",
    "        for i in range(1,x + 1):\n",
    "            fact = fact*i\n",
    "        print(\"The factorial of\",x,\"is\",fact)"
   ]
  },
  {
   "cell_type": "markdown",
   "id": "03e6390f",
   "metadata": {},
   "source": [
    "### Q12. Write a python program to find whether a number is prime or composite."
   ]
  },
  {
   "cell_type": "code",
   "execution_count": 12,
   "id": "2874c599",
   "metadata": {},
   "outputs": [
    {
     "name": "stdout",
     "output_type": "stream",
     "text": [
      "1  is neither prime nor composite\n",
      "0  is neither prime nor composite\n",
      "58 is composite number\n",
      "23 number is prime\n",
      "24 is composite number\n",
      "3 number is prime\n",
      "Please give positive number only\n",
      "7 number is prime\n",
      "9 is composite number\n",
      "10 is composite number\n",
      "12 is composite number\n",
      "13 number is prime\n",
      "Please give positive number only\n",
      "17 number is prime\n",
      "19 number is prime\n",
      "21 is composite number\n",
      "20 is composite number\n"
     ]
    }
   ],
   "source": [
    "x= [1, 0, 58, 23, 24, 3, -2,  7, 9, 10, 12, 13, -5, 17, 19, 21, 20]\n",
    "for n in x:\n",
    "    if(n ==0 or n == 1):\n",
    "        print(n,\" is neither prime nor composite\")\n",
    "    elif n>1 :\n",
    "        for i in range(2,n):\n",
    "            if(n%i == 0):\n",
    "                print(n,\"is composite number\")\n",
    "                break\n",
    "        else:\n",
    "            print(n,\"number is prime\")\n",
    "    else :\n",
    "        print(\"Please give positive number only\")"
   ]
  },
  {
   "cell_type": "markdown",
   "id": "b4471efd",
   "metadata": {},
   "source": [
    "### Q13. Write a python program to check whether a given string is palindrome or not."
   ]
  },
  {
   "cell_type": "code",
   "execution_count": 13,
   "id": "76b71eaa",
   "metadata": {},
   "outputs": [
    {
     "name": "stdout",
     "output_type": "stream",
     "text": [
      "nitin - The string is a palindrome.\n",
      "mahesh - The string is not a palindrome.\n",
      "civic - The string is a palindrome.\n",
      "radar - The string is a palindrome.\n",
      "level - The string is a palindrome.\n",
      "ravi - The string is not a palindrome.\n"
     ]
    }
   ],
   "source": [
    "list_str = ['Nitin', 'Mahesh', 'ciVic', 'Radar', 'levEl', 'ravi']\n",
    "\n",
    "for i in list_str:\n",
    "    i = i.casefold()\n",
    "    rev_str = reversed(i)\n",
    "    \n",
    "    if list(i) == list(rev_str):\n",
    "        print(i + \" - The string is a palindrome.\")\n",
    "    else:\n",
    "        print(i + \" - The string is not a palindrome.\")"
   ]
  },
  {
   "cell_type": "markdown",
   "id": "2e9bfb0e",
   "metadata": {},
   "source": [
    "### Q14. Write a Python program to get the third side of right-angled triangle from two given sides."
   ]
  },
  {
   "cell_type": "code",
   "execution_count": 14,
   "id": "b21ded72",
   "metadata": {},
   "outputs": [
    {
     "name": "stdout",
     "output_type": "stream",
     "text": [
      "adjacent side length: 25\n",
      "opposite side length: 17\n",
      "hypotenuse = 30.23243291566195\n"
     ]
    }
   ],
   "source": [
    "import math\n",
    "\n",
    "a = float(input(\"adjacent side length: \"))\n",
    "b = float(input(\"opposite side length: \"))\n",
    "\n",
    "c = math.sqrt(a ** 2 + b ** 2)\n",
    "\n",
    "print(\"hypotenuse =\", c)"
   ]
  },
  {
   "cell_type": "markdown",
   "id": "6ac7de86",
   "metadata": {},
   "source": [
    "### Q15. Write a python program to print the frequency of each of the characters present in a given string."
   ]
  },
  {
   "cell_type": "code",
   "execution_count": 15,
   "id": "77ab1a63",
   "metadata": {},
   "outputs": [
    {
     "name": "stdout",
     "output_type": "stream",
     "text": [
      "enter a string: guestgone\n",
      "Count of all characters in guestgoneis :\n",
      " {'g': 2, 'u': 1, 'e': 2, 's': 1, 't': 1, 'o': 1, 'n': 1}\n"
     ]
    }
   ],
   "source": [
    "string = input(\"enter a string: \")\n",
    "\n",
    "freq = {}\n",
    "\n",
    "for i in string:\n",
    "    if i in freq:\n",
    "        freq[i] += 1\n",
    "    else:\n",
    "        freq[i] = 1\n",
    "\n",
    "print ('Count of all characters in '+ string + 'is :\\n '+  str(freq))"
   ]
  },
  {
   "cell_type": "code",
   "execution_count": null,
   "id": "e45b96f3",
   "metadata": {},
   "outputs": [],
   "source": []
  }
 ],
 "metadata": {
  "kernelspec": {
   "display_name": "Python 3 (ipykernel)",
   "language": "python",
   "name": "python3"
  },
  "language_info": {
   "codemirror_mode": {
    "name": "ipython",
    "version": 3
   },
   "file_extension": ".py",
   "mimetype": "text/x-python",
   "name": "python",
   "nbconvert_exporter": "python",
   "pygments_lexer": "ipython3",
   "version": "3.9.7"
  }
 },
 "nbformat": 4,
 "nbformat_minor": 5
}
